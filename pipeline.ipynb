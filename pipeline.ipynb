{
  "cells": [
    {
      "cell_type": "raw",
      "metadata": {
        "vscode": {
          "languageId": "raw"
        }
      },
      "source": [
        "# GNN Pretraining Pipeline for Kaggle\n",
        "\n",
        "This notebook sets up and runs the GNN pretraining pipeline on Kaggle with proper GPU support and wandb integration.\n",
        "\n",
        "## Requirements:\n",
        "- Set `WANDB_API_KEY` in Kaggle Secrets\n",
        "- Enable GPU acceleration in notebook settings\n",
        "- Enable internet access\n"
      ]
    },
    {
      "cell_type": "raw",
      "metadata": {
        "vscode": {
          "languageId": "raw"
        }
      },
      "source": [
        "## Step 1: Clone Repository\n"
      ]
    },
    {
      "cell_type": "code",
      "execution_count": null,
      "metadata": {},
      "outputs": [],
      "source": [
        "%%bash\n",
        "set -euo pipefail\n",
        "\n",
        "REPO_URL=\"https://github.com/alonbebchuk/GNN-Pretraining.git\"\n",
        "PROJECT_NAME=\"gnn-pretraining\"\n",
        "WORKING_DIR=\"/kaggle/working\"\n",
        "PROJECT_PATH=\"${WORKING_DIR}/${PROJECT_NAME}\"\n",
        "\n",
        "if [ -d \"$PROJECT_PATH\" ]; then\n",
        "    echo \"[RERUN] Project already exists, fetching latest changes...\"\n",
        "    cd \"$PROJECT_PATH\"\n",
        "    git fetch origin\n",
        "    git reset --hard origin/master\n",
        "    echo \"[RERUN] Repository updated\"\n",
        "else\n",
        "    echo \"[INITIAL] Cloning repository...\"\n",
        "    cd \"$WORKING_DIR\"\n",
        "    git clone --depth=1 \"$REPO_URL\" \"$PROJECT_NAME\"\n",
        "    echo \"[INITIAL] Repository cloned\"\n",
        "fi\n"
      ]
    },
    {
      "cell_type": "raw",
      "metadata": {
        "vscode": {
          "languageId": "raw"
        }
      },
      "source": [
        "## Step 2: Setup Wandb API Key\n"
      ]
    },
    {
      "cell_type": "code",
      "execution_count": null,
      "metadata": {},
      "outputs": [],
      "source": [
        "import os\n",
        "from pathlib import Path\n",
        "\n",
        "PROJECT_NAME = \"gnn-pretraining\"\n",
        "ENV_MARKER = Path(\"/kaggle/working/.wandb_configured\")\n",
        "\n",
        "if ENV_MARKER.exists():\n",
        "    print(\"[RERUN] Wandb environment already configured\")\n",
        "else:\n",
        "    from kaggle_secrets import UserSecretsClient\n",
        "\n",
        "    print(\"[INITIAL] Setting up Wandb API key...\")\n",
        "    os.environ['WANDB_API_KEY'] = UserSecretsClient().get_secret(\"WANDB_API_KEY\")\n",
        "    os.environ['WANDB_PROJECT'] = PROJECT_NAME\n",
        "    ENV_MARKER.write_text(\"configured\")\n",
        "    print(\"[INITIAL] Wandb environment configured\")\n"
      ]
    },
    {
      "cell_type": "raw",
      "metadata": {
        "vscode": {
          "languageId": "raw"
        }
      },
      "source": [
        "## Step 3: Create Virtual Environment with GPU Support\n"
      ]
    },
    {
      "cell_type": "code",
      "execution_count": null,
      "metadata": {},
      "outputs": [],
      "source": [
        "%%bash\n",
        "set -euo pipefail\n",
        "\n",
        "WORKING_DIR=\"/kaggle/working\"\n",
        "VENV_DIR=\"${WORKING_DIR}/.venv\"\n",
        "\n",
        "if [ -d \"$VENV_DIR\" ]; then\n",
        "    echo \"[RERUN] Virtual environment already exists\"\n",
        "else\n",
        "    echo \"[INITIAL] Creating virtual environment with GPU support...\"\n",
        "    cd \"$WORKING_DIR\"\n",
        "    python -m pip -q install --upgrade pip --break-system-packages\n",
        "    python -m pip -q install --upgrade virtualenv --break-system-packages\n",
        "    python -m virtualenv \"$VENV_DIR\" --no-download\n",
        "    source \"$VENV_DIR/bin/activate\"\n",
        "    python -m pip -q install --upgrade pip wheel setuptools\n",
        "    python -m pip -q install \"torch==2.1.0+cu118\" \"torchvision==0.16.0+cu118\" \"torchaudio==2.1.0+cu118\" --index-url https://download.pytorch.org/whl/cu118\n",
        "    python -m pip -q install torch-scatter torch-sparse torch-cluster torch-spline-conv -f https://data.pyg.org/whl/torch-2.1.0+cu118.html\n",
        "    python -m pip -q install torch-geometric\n",
        "    python -m pip -q install \"numpy==1.26.4\" \"scipy>=1.12\" scikit-learn tqdm pyyaml \"wandb>=0.16\" \"optuna>=3.5\" \"hydra-core>=1.3\" tensorboard\n",
        "    echo \"[INITIAL] Virtual environment setup complete\"\n",
        "fi\n"
      ]
    },
    {
      "cell_type": "raw",
      "metadata": {
        "vscode": {
          "languageId": "raw"
        }
      },
      "source": [
        "## Step 4: Run Data Setup\n"
      ]
    },
    {
      "cell_type": "code",
      "execution_count": null,
      "metadata": {},
      "outputs": [],
      "source": [
        "%%bash\n",
        "set -euo pipefail\n",
        "\n",
        "ROOT=\"/kaggle/working/gnn-pretraining\"\n",
        "DATA_MARKER=\"${ROOT}/data/.setup_complete\"\n",
        "\n",
        "if [ -f \"$DATA_MARKER\" ]; then\n",
        "    echo \"[RERUN] Data setup already completed\"\n",
        "else\n",
        "    echo \"[INITIAL] Running data setup...\"\n",
        "    cd \"$ROOT\"\n",
        "    export PYTHONNOUSERSITE=1\n",
        "    python -m src.data.data_setup\n",
        "    touch \"$DATA_MARKER\"\n",
        "    echo \"[INITIAL] Data setup completed\"\n",
        "fi\n"
      ]
    },
    {
      "cell_type": "markdown",
      "metadata": {},
      "source": [
        "## Step 5: Run Pretraining Experiments\n"
      ]
    },
    {
      "cell_type": "code",
      "execution_count": null,
      "metadata": {},
      "outputs": [],
      "source": [
        "%%bash\n",
        "set -euo pipefail\n",
        "\n",
        "ROOT=\"/kaggle/working/gnn-pretraining\"\n",
        "PRETRAIN_MARKER=\"${ROOT}/outputs/pretrain/.experiments_complete\"\n",
        "\n",
        "if [ -f \"$PRETRAIN_MARKER\" ]; then\n",
        "    echo \"[RERUN] Pretraining experiments already completed\"\n",
        "else\n",
        "    echo \"[INITIAL] Starting pretraining experiments...\"\n",
        "    echo \"This will train 8 schemes × 3 seeds = 24 models\"\n",
        "    echo \"Expected runtime: ~3-4 hours on GPU\"\n",
        "    \n",
        "    cd \"$ROOT\"\n",
        "    export PYTHONNOUSERSITE=1\n",
        "    python run_pretrain_experiments.py\n",
        "    \n",
        "    mkdir -p \"${ROOT}/outputs/pretrain\"\n",
        "    touch \"$PRETRAIN_MARKER\"\n",
        "    echo \"[INITIAL] Pretraining experiments completed successfully\"\n",
        "fi\n"
      ]
    },
    {
      "cell_type": "markdown",
      "metadata": {},
      "source": [
        "## Step 6: Run Finetuning Experiments\n"
      ]
    },
    {
      "cell_type": "code",
      "execution_count": null,
      "metadata": {},
      "outputs": [],
      "source": [
        "%%bash\n",
        "set -euo pipefail\n",
        "\n",
        "ROOT=\"/kaggle/working/gnn-pretraining\"\n",
        "FINETUNE_MARKER=\"${ROOT}/outputs/finetune/.experiments_complete\"\n",
        "\n",
        "if [ -f \"$FINETUNE_MARKER\" ]; then\n",
        "    echo \"[RERUN] Finetuning experiments already completed\"\n",
        "else\n",
        "    echo \"[INITIAL] Starting finetuning experiments...\"\n",
        "    echo \"This will finetune on 6 domains × 9 schemes × 2 strategies × 3 seeds = 324 experiments\"\n",
        "    echo \"Expected runtime: ~5-6 hours on GPU\"\n",
        "    \n",
        "    cd \"$ROOT\"\n",
        "    export PYTHONNOUSERSITE=1\n",
        "    python run_finetune_experiments.py\n",
        "    \n",
        "    mkdir -p \"${ROOT}/outputs/finetune\"\n",
        "    touch \"$FINETUNE_MARKER\"\n",
        "    echo \"[INITIAL] Finetuning experiments completed successfully\"\n",
        "fi\n"
      ]
    }
  ],
  "metadata": {
    "language_info": {
      "name": "python"
    }
  },
  "nbformat": 4,
  "nbformat_minor": 2
}
