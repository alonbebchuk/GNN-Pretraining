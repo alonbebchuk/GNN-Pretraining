{
  "cells": [
    {
      "cell_type": "raw",
      "metadata": {
        "vscode": {
          "languageId": "raw"
        }
      },
      "source": [
        "# GNN Pretraining Pipeline for Kaggle\n",
        "\n",
        "This notebook sets up and runs the GNN pretraining pipeline on Kaggle with proper GPU support and wandb integration.\n",
        "\n",
        "## Requirements:\n",
        "- Set `WANDB_API_KEY` in Kaggle Secrets\n",
        "- Enable GPU acceleration in notebook settings\n",
        "- Enable internet access\n"
      ]
    },
    {
      "cell_type": "raw",
      "metadata": {
        "vscode": {
          "languageId": "raw"
        }
      },
      "source": [
        "## Step 1: Clone Repository\n"
      ]
    },
    {
      "cell_type": "code",
      "execution_count": null,
      "metadata": {},
      "outputs": [],
      "source": [
        "%%bash\n",
        "set -euo pipefail\n",
        "\n",
        "REPO_URL=\"https://github.com/alonbebchuk/GNN-Pretraining.git\"\n",
        "PROJECT_NAME=\"gnn-pretraining\"\n",
        "WORKING_DIR=\"/kaggle/working\"\n",
        "PROJECT_PATH=\"${WORKING_DIR}/${PROJECT_NAME}\"\n",
        "\n",
        "if [ -d \"$PROJECT_PATH\" ]; then\n",
        "    echo \"[RERUN] Project already exists, fetching latest changes...\"\n",
        "    cd \"$PROJECT_PATH\"\n",
        "    git fetch origin\n",
        "    git reset --hard origin/master\n",
        "    echo \"[RERUN] Repository updated\"\n",
        "else\n",
        "    echo \"[INITIAL] Cloning repository...\"\n",
        "    cd \"$WORKING_DIR\"\n",
        "    git clone --depth=1 \"$REPO_URL\" \"$PROJECT_NAME\"\n",
        "    echo \"[INITIAL] Repository cloned\"\n",
        "fi\n"
      ]
    },
    {
      "cell_type": "raw",
      "metadata": {
        "vscode": {
          "languageId": "raw"
        }
      },
      "source": [
        "## Step 2: Setup Wandb API Key\n"
      ]
    },
    {
      "cell_type": "code",
      "execution_count": null,
      "metadata": {},
      "outputs": [],
      "source": [
        "import os\n",
        "from pathlib import Path\n",
        "\n",
        "PROJECT_NAME = \"gnn-pretraining\"\n",
        "ENV_MARKER = Path(\"/kaggle/working/.wandb_configured\")\n",
        "\n",
        "if ENV_MARKER.exists():\n",
        "    print(\"[RERUN] Wandb environment already configured\")\n",
        "else:\n",
        "    from kaggle_secrets import UserSecretsClient\n",
        "\n",
        "    print(\"[INITIAL] Setting up Wandb API key...\")\n",
        "    os.environ['WANDB_API_KEY'] = UserSecretsClient().get_secret(\"WANDB_API_KEY\")\n",
        "    os.environ['WANDB_PROJECT'] = PROJECT_NAME\n",
        "    ENV_MARKER.write_text(\"configured\")\n",
        "    print(\"[INITIAL] Wandb environment configured\")\n"
      ]
    },
    {
      "cell_type": "raw",
      "metadata": {
        "vscode": {
          "languageId": "raw"
        }
      },
      "source": [
        "## Step 3: Create Virtual Environment with GPU Support\n"
      ]
    },
    {
      "cell_type": "code",
      "execution_count": null,
      "metadata": {},
      "outputs": [],
      "source": [
        "%%bash\n",
        "set -euo pipefail\n",
        "\n",
        "WORKING_DIR=\"/kaggle/working\"\n",
        "VENV_DIR=\"${WORKING_DIR}/.venv\"\n",
        "\n",
        "if [ -d \"$VENV_DIR\" ]; then\n",
        "    echo \"[RERUN] Virtual environment already exists\"\n",
        "else\n",
        "    echo \"[INITIAL] Creating virtual environment with GPU support...\"\n",
        "    cd \"$WORKING_DIR\"\n",
        "    python -m pip -q install --upgrade pip --break-system-packages\n",
        "    python -m pip -q install --upgrade virtualenv --break-system-packages\n",
        "    python -m virtualenv \"$VENV_DIR\" --no-download\n",
        "    source \"$VENV_DIR/bin/activate\"\n",
        "    python -m pip -q install --upgrade pip wheel setuptools\n",
        "    python -m pip -q install \"torch==2.1.0+cu118\" \"torchvision==0.16.0+cu118\" \"torchaudio==2.1.0+cu118\" --index-url https://download.pytorch.org/whl/cu118\n",
        "    python -m pip -q install torch-scatter torch-sparse torch-cluster torch-spline-conv -f https://data.pyg.org/whl/torch-2.1.0+cu118.html\n",
        "    python -m pip -q install torch-geometric\n",
        "    python -m pip -q install \"numpy==1.26.4\" \"scipy>=1.12\" scikit-learn tqdm pyyaml \"wandb>=0.16\" \"optuna>=3.5\" \"hydra-core>=1.3\" tensorboard\n",
        "    echo \"[INITIAL] Virtual environment setup complete\"\n",
        "fi\n"
      ]
    },
    {
      "cell_type": "raw",
      "metadata": {
        "vscode": {
          "languageId": "raw"
        }
      },
      "source": [
        "## Step 4: Run Data Setup\n"
      ]
    },
    {
      "cell_type": "code",
      "execution_count": null,
      "metadata": {},
      "outputs": [],
      "source": [
        "%%bash\n",
        "set -euo pipefail\n",
        "\n",
        "ROOT=\"/kaggle/working/gnn-pretraining\"\n",
        "DATA_MARKER=\"${ROOT}/data/.setup_complete\"\n",
        "\n",
        "if [ -f \"$DATA_MARKER\" ]; then\n",
        "    echo \"[RERUN] Data setup already completed\"\n",
        "else\n",
        "    echo \"[INITIAL] Running data setup...\"\n",
        "    cd \"$ROOT\"\n",
        "    unset PYTHONPATH; export PYTHONNOUSERSITE=1\n",
        "    python -m src.data.data_setup\n",
        "    touch \"$DATA_MARKER\"\n",
        "    echo \"[INITIAL] Data setup completed\"\n",
        "fi\n"
      ]
    },
    {
      "cell_type": "raw",
      "metadata": {
        "vscode": {
          "languageId": "raw"
        }
      },
      "source": [
        "## Step 5: Setup and Run Wandb Sweep\n"
      ]
    },
    {
      "cell_type": "code",
      "execution_count": null,
      "metadata": {},
      "outputs": [],
      "source": [
        "import subprocess\n",
        "import re\n",
        "import os\n",
        "import time\n",
        "import torch\n",
        "from concurrent.futures import ThreadPoolExecutor, as_completed\n",
        "\n",
        "PROJECT_NAME = \"gnn-pretraining\"\n",
        "PROJECT_ROOT = f\"/kaggle/working/{PROJECT_NAME}\"\n",
        "\n",
        "\n",
        "def create_wandb_sweep():\n",
        "    print(\"Creating wandb sweep...\")\n",
        "    env = os.environ.copy()\n",
        "    result = subprocess.run(\n",
        "        ['bash', '-c', f'source /kaggle/working/.venv/bin/activate && wandb sweep {PROJECT_ROOT}/configs/sweeps/systematic_pretrain.yaml'],\n",
        "        capture_output=True, text=True, env=env\n",
        "    )\n",
        "    sweep_match = re.search(r'wandb: Created sweep with ID: ([\\w\\d]+)', result.stdout)\n",
        "    sweep_id = sweep_match.group(1)\n",
        "    print(f\"Created sweep with ID: {sweep_id}\")\n",
        "    return sweep_id\n",
        "\n",
        "\n",
        "def run_sweep_agent(sweep_id, agent_id):\n",
        "    print(f\"Starting agent {agent_id} for sweep {sweep_id}\")\n",
        "    env = os.environ.copy()\n",
        "    cmd = f'source /kaggle/working/.venv/bin/activate && cd {PROJECT_ROOT} && wandb agent {sweep_id}'\n",
        "    process = subprocess.run(\n",
        "        ['bash', '-c', cmd],\n",
        "        env=env, timeout=3 * 60 * 60\n",
        "    )\n",
        "    print(f\"Agent {agent_id} completed with return code {process.returncode}\")\n",
        "    return process.returncode\n",
        "\n",
        "num_agents = min(torch.cuda.device_count(), 2)\n",
        "print(f\"Using {num_agents} parallel agents\")\n",
        "\n",
        "sweep_id = create_wandb_sweep()\n",
        "\n",
        "print(f\"\\nStarting {num_agents} sweep agents...\")\n",
        "print(f\"Sweep URL: https://wandb.ai/{PROJECT_NAME}/sweeps/{sweep_id}\")\n",
        "\n",
        "start_time = time.time()\n",
        "with ThreadPoolExecutor(max_workers=num_agents) as executor:\n",
        "    completed_agents = []\n",
        "    future_to_agent = {\n",
        "        executor.submit(run_sweep_agent, sweep_id, i+1): i+1\n",
        "        for i in range(num_agents)\n",
        "    }\n",
        "    for future in as_completed(future_to_agent):\n",
        "        agent_id = future_to_agent[future]\n",
        "        return_code = future.result()\n",
        "        completed_agents.append((agent_id, return_code))\n",
        "        print(f\"Agent {agent_id} finished (exit code: {return_code})\")\n",
        "end_time = time.time()\n",
        "total_time = end_time - start_time\n",
        "\n",
        "print(f\"\\nAll sweep agents completed!\")\n",
        "print(f\"Total runtime: {total_time/60:.1f} minutes\")\n",
        "print(f\"Sweep results: https://wandb.ai/{PROJECT_NAME}/sweeps/{sweep_id}\")\n",
        "\n",
        "successful_agents = sum(1 for _, code in completed_agents if code == 0)\n",
        "print(f\"Successful agents: {successful_agents}/{num_agents}\")"
      ]
    }
  ],
  "metadata": {
    "language_info": {
      "name": "python"
    }
  },
  "nbformat": 4,
  "nbformat_minor": 2
}
